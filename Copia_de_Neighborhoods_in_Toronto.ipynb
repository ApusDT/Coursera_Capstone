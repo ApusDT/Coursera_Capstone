{
  "nbformat": 4,
  "nbformat_minor": 0,
  "metadata": {
    "colab": {
      "name": "Copia de Neighborhoods in Toronto.ipynb",
      "provenance": [],
      "private_outputs": true,
      "authorship_tag": "ABX9TyMUXrlzyZ3N1roEDtLFyHdE",
      "include_colab_link": true
    },
    "kernelspec": {
      "name": "python3",
      "display_name": "Python 3"
    }
  },
  "cells": [
    {
      "cell_type": "markdown",
      "metadata": {
        "id": "view-in-github",
        "colab_type": "text"
      },
      "source": [
        "<a href=\"https://colab.research.google.com/github/filosoficaguilar/Coursera_Capstone/blob/main/Copia_de_Neighborhoods_in_Toronto.ipynb\" target=\"_parent\"><img src=\"https://colab.research.google.com/assets/colab-badge.svg\" alt=\"Open In Colab\"/></a>"
      ]
    },
    {
      "cell_type": "code",
      "metadata": {
        "id": "73xOtk4GnqP4"
      },
      "source": [
        "!pip install geocoder"
      ],
      "execution_count": null,
      "outputs": []
    },
    {
      "cell_type": "code",
      "metadata": {
        "id": "GbuN-e8HcuLa"
      },
      "source": [
        "#Import libraries\n",
        "import pandas as pd\n",
        "import numpy as np\n",
        "import requests\n",
        "import geocoder\n",
        "from bs4 import BeautifulSoup"
      ],
      "execution_count": null,
      "outputs": []
    },
    {
      "cell_type": "markdown",
      "metadata": {
        "id": "O57xpYVhot6r"
      },
      "source": [
        "<h1>Excercise 1: Getting Data and Creating DataFrame</h1>"
      ]
    },
    {
      "cell_type": "code",
      "metadata": {
        "id": "G3NgvAMjdsyF"
      },
      "source": [
        "#request to wikipedia by method get\n",
        "document = requests.get('https://en.wikipedia.org/wiki/List_of_postal_codes_of_Canada:_M')\n",
        "#parsing the response text to html format\n",
        "soup = BeautifulSoup(document.text, 'html.parser')\n",
        "#extracting the table on html formatt o list with all td\n",
        "list_table= soup.table.find_all(\"td\")\n",
        "\n",
        "#filling raw_data with the text of each td\n",
        "raw_data = [i.text.replace(\"\\n\",\"\") for i in list_table]\n",
        "\n",
        "#spliting the data into slices\n",
        "data_2 = [raw_data[x:x+3] for x in range(0, len(raw_data), 3)]\n",
        "\n",
        "#dropping the Not Assigned data\n",
        "final_data = []\n",
        "for i in data_2:\n",
        "  if(i[1] != \"Not assigned\"):\n",
        "    final_data.append(i)\n",
        "final_data\n",
        "df = pd.DataFrame(data=final_data,columns=[\"Postal Code\",\"Borough\",\"Neighborhood\"])\n",
        "df.shape"
      ],
      "execution_count": null,
      "outputs": []
    },
    {
      "cell_type": "markdown",
      "metadata": {
        "id": "fTG66oxcpCzp"
      },
      "source": [
        "<h1>Excercise 2: Getting Geolocalization (by CSV file)</h1>"
      ]
    },
    {
      "cell_type": "code",
      "metadata": {
        "id": "xRWafGzlnuIb"
      },
      "source": [
        "postal_codes = pd.read_csv(\"http://cocl.us/Geospatial_data\")\n",
        "df_geo = pd.merge(df, postal_codes)\n",
        "df_geo"
      ],
      "execution_count": null,
      "outputs": []
    }
  ]
}