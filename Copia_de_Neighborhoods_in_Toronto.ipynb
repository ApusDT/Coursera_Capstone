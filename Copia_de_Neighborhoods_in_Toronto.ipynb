{
  "nbformat": 4,
  "nbformat_minor": 0,
  "metadata": {
    "colab": {
      "name": "Copia de Neighborhoods in Toronto.ipynb",
      "provenance": [],
      "collapsed_sections": [],
      "authorship_tag": "ABX9TyN+Gmgg3DULF0TlNWmsaxXW",
      "include_colab_link": true
    },
    "kernelspec": {
      "name": "python3",
      "display_name": "Python 3"
    }
  },
  "cells": [
    {
      "cell_type": "markdown",
      "metadata": {
        "id": "view-in-github",
        "colab_type": "text"
      },
      "source": [
        "<a href=\"https://colab.research.google.com/github/filosoficaguilar/Coursera_Capstone/blob/main/Copia_de_Neighborhoods_in_Toronto.ipynb\" target=\"_parent\"><img src=\"https://colab.research.google.com/assets/colab-badge.svg\" alt=\"Open In Colab\"/></a>"
      ]
    },
    {
      "cell_type": "code",
      "metadata": {
        "id": "73xOtk4GnqP4"
      },
      "source": [
        "!pip install geocoder"
      ],
      "execution_count": null,
      "outputs": []
    },
    {
      "cell_type": "code",
      "metadata": {
        "id": "GbuN-e8HcuLa"
      },
      "source": [
        "#Import libraries\n",
        "import pandas as pd\n",
        "import numpy as np\n",
        "import requests\n",
        "import geocoder\n",
        "from bs4 import BeautifulSoup"
      ],
      "execution_count": null,
      "outputs": []
    },
    {
      "cell_type": "markdown",
      "metadata": {
        "id": "O57xpYVhot6r"
      },
      "source": [
        "<h1>Excercise 1: Getting Data and Creating DataFrame</h1>"
      ]
    },
    {
      "cell_type": "code",
      "metadata": {
        "id": "G3NgvAMjdsyF"
      },
      "source": [
        "#request to wikipedia by method get\n",
        "document = requests.get('https://en.wikipedia.org/wiki/List_of_postal_codes_of_Canada:_M')\n",
        "#parsing the response text to html format\n",
        "soup = BeautifulSoup(document.text, 'html.parser')\n",
        "#extracting the table on html formatt o list with all td\n",
        "list_table= soup.table.find_all(\"td\")\n",
        "\n",
        "#filling raw_data with the text of each td\n",
        "raw_data = [i.text.replace(\"\\n\",\"\") for i in list_table]\n",
        "\n",
        "#spliting the data into slices\n",
        "data_2 = [raw_data[x:x+3] for x in range(0, len(raw_data), 3)]\n",
        "\n",
        "#dropping the Not Assigned data\n",
        "final_data = []\n",
        "for i in data_2:\n",
        "  if(i[1] != \"Not assigned\"):\n",
        "    final_data.append(i)\n",
        "final_data\n",
        "df = pd.DataFrame(data=final_data,columns=[\"Postal Code\",\"Borough\",\"Neighborhood\"])\n",
        "df.shape"
      ],
      "execution_count": null,
      "outputs": []
    },
    {
      "cell_type": "markdown",
      "metadata": {
        "id": "fTG66oxcpCzp"
      },
      "source": [
        "<h1>Excercise 2: Getting Geolocalization (by CSV file)</h1>"
      ]
    },
    {
      "cell_type": "code",
      "metadata": {
        "id": "xRWafGzlnuIb"
      },
      "source": [
        "postal_codes = pd.read_csv(\"http://cocl.us/Geospatial_data\")\n",
        "df_geo = pd.merge(df, postal_codes)\n",
        "df_geo"
      ],
      "execution_count": null,
      "outputs": []
    },
    {
      "cell_type": "markdown",
      "metadata": {
        "id": "fa8sybiX3m31"
      },
      "source": [
        "\n",
        "\n",
        "<h1>Execise 3: Map And Klustering</h1>\n"
      ]
    },
    {
      "cell_type": "code",
      "metadata": {
        "id": "eQEJwHV93mTF"
      },
      "source": [
        "from geopy.geocoders import Nominatim \n",
        "import matplotlib.cm as cm\n",
        "import matplotlib.colors as colors\n",
        "from sklearn.cluster import KMeans\n",
        "import folium "
      ],
      "execution_count": null,
      "outputs": []
    },
    {
      "cell_type": "code",
      "metadata": {
        "id": "irzILyG-6XzB"
      },
      "source": [
        "df_toronto = df_geo[df_geo['Borough'].str.contains('Toronto',regex=False)]\n",
        "df_toronto"
      ],
      "execution_count": null,
      "outputs": []
    },
    {
      "cell_type": "code",
      "metadata": {
        "id": "QWaxEOfW6c3W"
      },
      "source": [
        "map_toronto = folium.Map(location=[43.651070,-79.347015],zoom_start=10)\n",
        "\n",
        "for lat,lng,borough,neighbourhood in zip(df_toronto['Latitude'],df_toronto['Longitude'],df_toronto['Borough'],df_toronto['Neighborhood']):\n",
        "    label = '{}, {}'.format(neighbourhood, borough)\n",
        "    label = folium.Popup(label, parse_html=True)\n",
        "    folium.CircleMarker(\n",
        "    [lat,lng],\n",
        "    radius=5,\n",
        "    popup=label,\n",
        "    color='blue',\n",
        "    fill=True,\n",
        "    fill_color='#3186cc',\n",
        "    fill_opacity=0.7,\n",
        "    parse_html=False).add_to(map_toronto)\n",
        "map_toronto"
      ],
      "execution_count": null,
      "outputs": []
    },
    {
      "cell_type": "code",
      "metadata": {
        "id": "y0rVNIyJ6px1"
      },
      "source": [
        "k=5\n",
        "toronto_clustering = df_toronto.drop(['Postal Code','Borough','Neighborhood'],1)\n",
        "kmeans = KMeans(n_clusters = k,random_state=0).fit(toronto_clustering)\n",
        "kmeans.labels_\n",
        "df_toronto.insert(0, 'Cluster Labels', kmeans.labels_)"
      ],
      "execution_count": null,
      "outputs": []
    },
    {
      "cell_type": "code",
      "metadata": {
        "id": "d-Z-jQ8o6_yl"
      },
      "source": [
        "df_toronto"
      ],
      "execution_count": null,
      "outputs": []
    },
    {
      "cell_type": "code",
      "metadata": {
        "id": "iXb40HFd7EWz"
      },
      "source": [
        "# create map\n",
        "map_clusters = folium.Map(location=[43.651070,-79.347015],zoom_start=10)\n",
        "\n",
        "# set color scheme for the clusters\n",
        "x = np.arange(k)\n",
        "ys = [i + x + (i*x)**2 for i in range(k)]\n",
        "colors_array = cm.rainbow(np.linspace(0, 1, len(ys)))\n",
        "rainbow = [colors.rgb2hex(i) for i in colors_array]\n",
        "\n",
        "# add markers to the map\n",
        "markers_colors = []\n",
        "for lat, lon, neighbourhood, cluster in zip(df_toronto['Latitude'], df_toronto['Longitude'], df_toronto['Neighborhood'], df_toronto['Cluster Labels']):\n",
        "    label = folium.Popup(' Cluster ' + str(cluster), parse_html=True)\n",
        "    folium.CircleMarker(\n",
        "        [lat, lon],\n",
        "        radius=5,\n",
        "        popup=label,\n",
        "        color=rainbow[cluster-1],\n",
        "        fill=True,\n",
        "        fill_color=rainbow[cluster-1],\n",
        "        fill_opacity=0.7).add_to(map_clusters)\n",
        "       \n",
        "map_clusters\n"
      ],
      "execution_count": null,
      "outputs": []
    }
  ]
}