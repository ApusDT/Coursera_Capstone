{
  "nbformat": 4,
  "nbformat_minor": 0,
  "metadata": {
    "colab": {
      "name": "The Battle of Neighborhoods (Week 2).ipynb",
      "provenance": [],
      "private_outputs": true,
      "authorship_tag": "ABX9TyNkS6IFgNNDKwlIK2vTN7LV",
      "include_colab_link": true
    },
    "kernelspec": {
      "name": "python3",
      "display_name": "Python 3"
    }
  },
  "cells": [
    {
      "cell_type": "markdown",
      "metadata": {
        "id": "view-in-github",
        "colab_type": "text"
      },
      "source": [
        "<a href=\"https://colab.research.google.com/github/filosoficaguilar/Coursera_Capstone/blob/main/The_Battle_of_Neighborhoods_(Week_2).ipynb\" target=\"_parent\"><img src=\"https://colab.research.google.com/assets/colab-badge.svg\" alt=\"Open In Colab\"/></a>"
      ]
    },
    {
      "cell_type": "code",
      "metadata": {
        "id": "u9K2bTKukzN7"
      },
      "source": [
        "!pip install wget\n",
        "!conda install -c conda-forge folium=0.5.0 --yes \n",
        "!conda install -c conda-forge wget --yes"
      ],
      "execution_count": null,
      "outputs": []
    },
    {
      "cell_type": "code",
      "metadata": {
        "id": "O5De5LCWkf2l"
      },
      "source": [
        "import requests\n",
        "import pandas as pd\n",
        "import folium # map rendering library\n",
        "import wget\n",
        "import matplotlib.pyplot as plt\n",
        "import numpy as np\n",
        "import math\n",
        "from geopy.distance import vincenty\n",
        "from shapely.geometry import LineString, Point, LinearRing"
      ],
      "execution_count": null,
      "outputs": []
    },
    {
      "cell_type": "code",
      "metadata": {
        "id": "pGafqWUylCPO"
      },
      "source": [
        "df_csv = pd.read_csv(filepath_or_buffer=\"https://datos.cdmx.gob.mx/explore/dataset/coloniascdmx/download/?format=csv&timezone=America/Mexico_City&lang=es&use_labels_for_header=true&csv_separator=%2C\")\n",
        "df_csv"
      ],
      "execution_count": null,
      "outputs": []
    },
    {
      "cell_type": "code",
      "metadata": {
        "id": "vaIrpLfSp9CJ"
      },
      "source": [
        "df=df_csv.drop(columns=['ENTIDAD','Geo Shape', 'CVE_ALC','ALCALDIA','CVE_COL','SECC_COM','SECC_PAR'],axis=1)\n",
        "df[['lat','lon']] = df[\"Geo Point\"].str.split(',',expand=True)\n",
        "df_cdmx = df.drop(columns=[\"Geo Point\"],axis=1)\n",
        "df_cdmx = df_cdmx.dropna(axis=0)\n",
        "df_cdmx.reset_index(drop=True, inplace=True)\n",
        "df_cdmx = df_cdmx.rename(columns={\"COLONIA\": \"Neighborhood\"})\n",
        "df_cdmx"
      ],
      "execution_count": null,
      "outputs": []
    },
    {
      "cell_type": "code",
      "metadata": {
        "id": "_N-uCQ_Bx2nY"
      },
      "source": [
        ""
      ],
      "execution_count": null,
      "outputs": []
    },
    {
      "cell_type": "code",
      "metadata": {
        "id": "E1gXezJdtKdO"
      },
      "source": [
        "# create map of Mexico City using latitude and longitude values\n",
        "\n",
        "latitude = 19.4978\n",
        "longitude =  -99.1269\n",
        "\n",
        "map_cdmx = folium.Map(location=[latitude, longitude], zoom_start=10)\n",
        "\n",
        "for lat,lon,name in zip( df_cdmx['lat'],df_cdmx['lon'], df_cdmx['Neighborhood']):\n",
        "    label = '{}'.format(name)\n",
        "    label = folium.Popup(label, parse_html=True)\n",
        "    folium.CircleMarker(\n",
        "        [float(lat), float(lon)],\n",
        "        radius=5,\n",
        "        popup=label,\n",
        "        color='blue',\n",
        "        fill=True,\n",
        "        fill_color='#3186cc',\n",
        "        fill_opacity=0.7,\n",
        "        parse_html=False).add_to(map_cdmx)      \n",
        "map_cdmx"
      ],
      "execution_count": null,
      "outputs": []
    },
    {
      "cell_type": "code",
      "metadata": {
        "id": "WTbozH2yzgxw"
      },
      "source": [
        "CLIENT_ID = \"DBDKII3BFJLFQ1H1RLSEQHLC0TC2RMAJ0CJLEETESTRSXARB\"\n",
        "CLIENT_SECRET =\"Z2FNS1LXNKSEKZ44ZFWJ0RPWNTRDWJ4PZUMN5UNS3RMPAJRI\"\n",
        "VERSION = \"20190425\"\n",
        "GeoId=72057594041458533\n",
        "place= \"Ciudad de México, DF, México\"\n",
        "offset = 100\n",
        "limit = 100\n",
        "venues = []\n",
        "\n",
        "url = \"https://api.foursquare.com/v2/venues/explore?client_id={}&client_secret={}&v={}&near={}&nearGeoId={}&offset={}&limit={}\".format(\n",
        "    CLIENT_ID,\n",
        "    CLIENT_SECRET,\n",
        "    VERSION,\n",
        "    place,\n",
        "    GeoId,\n",
        "    offset,\n",
        "    limit)\n",
        "\n",
        "results = requests.get(url).json()[\"response\"]['groups'][0]['items']\n",
        "    \n",
        "for venue in results:\n",
        "    venues.append((\n",
        "        name,\n",
        "        lat, \n",
        "        lon, \n",
        "        venue['venue']['name'], \n",
        "        venue['venue']['location']['lat'], \n",
        "        venue['venue']['location']['lng'],  \n",
        "        venue['venue']['categories'][0]['name']))"
      ],
      "execution_count": null,
      "outputs": []
    },
    {
      "cell_type": "code",
      "metadata": {
        "id": "xP08lYFL4rro"
      },
      "source": [
        "venues_df = pd.DataFrame(venues)\n",
        "venues_df.columns = ['Name', 'Latitude','Longitude', 'VenueName', 'VenueLatitude', 'VenueLongitude', 'VenueCategory']\n",
        "venues_df"
      ],
      "execution_count": null,
      "outputs": []
    },
    {
      "cell_type": "code",
      "metadata": {
        "id": "mWcD9mIOF5DQ"
      },
      "source": [
        "# create map of CDMX using latitude and longitude values\n",
        "#This will show us where are all the venues from Foursquare.com and then we will compare them with all the Neighborhoods\n",
        "latitude = 19.4978\n",
        "longitude =  -99.1269\n",
        "\n",
        "map_venue = folium.Map(location=[latitude, longitude], zoom_start=11)\n",
        "\n",
        "for lat,lon, name, category in zip(venues_df['VenueLatitude'], venues_df['VenueLongitude'], venues_df['VenueName'], venues_df['VenueCategory']):\n",
        "    label = '{}, {}'.format(name, category)\n",
        "    label = folium.Popup(label, parse_html=True)\n",
        "    folium.CircleMarker(\n",
        "        [lat, lon],\n",
        "        radius=5,\n",
        "        popup=label,\n",
        "        color='Red',\n",
        "        fill=True,\n",
        "        fill_color='Red',\n",
        "        fill_opacity=0.7,\n",
        "        parse_html=False).add_to(map_venue)  \n",
        "    \n",
        "map_venue"
      ],
      "execution_count": null,
      "outputs": []
    },
    {
      "cell_type": "code",
      "metadata": {
        "id": "0c0QcFcEGtZZ"
      },
      "source": [
        "latitude = 19.4978\n",
        "longitude =  -99.1269\n",
        "\n",
        "map_cdmx_venues = folium.Map(location=[latitude, longitude], zoom_start=10)\n",
        "\n",
        "for lat,lon,name in zip( df_cdmx['lat'],df_cdmx['lon'], df_cdmx['Neighborhood']):\n",
        "    label = '{}'.format(name)\n",
        "    label = folium.Popup(label, parse_html=True)\n",
        "    folium.CircleMarker(\n",
        "        [float(lat), float(lon)],\n",
        "        radius=5,\n",
        "        popup=label,\n",
        "        color='blue',\n",
        "        fill=True,\n",
        "        fill_color='#3186cc',\n",
        "        fill_opacity=0.7,\n",
        "        parse_html=False).add_to(map_cdmx_venues)      \n",
        "\n",
        "for lat,lon, name, category in zip(venues_df['VenueLatitude'], venues_df['VenueLongitude'], venues_df['VenueName'], venues_df['VenueCategory']):\n",
        "    label = '{}, {}'.format(name, category)\n",
        "    label = folium.Popup(label, parse_html=True)\n",
        "    folium.CircleMarker(\n",
        "        [lat, lon],\n",
        "        radius=5,\n",
        "        popup=label,\n",
        "        color='Red',\n",
        "        fill=True,\n",
        "        fill_color='Red',\n",
        "        fill_opacity=0.7,\n",
        "        parse_html=False).add_to(map_cdmx_venues)  \n",
        "\n",
        "map_cdmx_venues"
      ],
      "execution_count": null,
      "outputs": []
    },
    {
      "cell_type": "markdown",
      "metadata": {
        "id": "l-dBSgZyUwTR"
      },
      "source": [
        "<h2>Getting the middle point</h2>\n",
        "\n",
        "With all the venues and Neighborhoods displayed before we can get the middle point of all the venues to get the best place to stay on a trip"
      ]
    },
    {
      "cell_type": "code",
      "metadata": {
        "id": "GrUIAT_iHgEG"
      },
      "source": [
        "#Getting the middle point of all the venues\n",
        "lat_all = []\n",
        "lon_all = []\n",
        "for lat,lon in zip(venues_df['VenueLatitude'], venues_df['VenueLongitude']):\n",
        "  lat_all.append(lat)\n",
        "  lon_all.append(lon)\n",
        "\n",
        "lat_final = sum(lat_all)/len(lat_all)\n",
        "lon_final = sum(lon_all)/len(lon_all)\n",
        "print(lat_final,lon_final)"
      ],
      "execution_count": null,
      "outputs": []
    },
    {
      "cell_type": "code",
      "metadata": {
        "id": "JhLF7J1bIODZ"
      },
      "source": [
        "label = '{},\\n {},{}'.format(\"Middle Point of venues\",lat_final,lon_final)\n",
        "label = folium.Popup(label, parse_html=True)\n",
        "folium.CircleMarker(\n",
        "    [lat_final, lon_final],\n",
        "    radius=6,\n",
        "    popup=label,\n",
        "    color='Green',\n",
        "    fill=True,\n",
        "    fill_color='Green',\n",
        "    fill_opacity=0.7,\n",
        "    parse_html=False).add_to(map_cdmx_venues)  \n",
        "\n",
        "map_cdmx_venues"
      ],
      "execution_count": null,
      "outputs": []
    },
    {
      "cell_type": "markdown",
      "metadata": {
        "id": "5Fm2j9zQVGZH"
      },
      "source": [
        "<h2>Getting the distances</h2>\n",
        "\n",
        "Once we have the middle point we need to know what is the distance between the middle point and the Neighborhoods to make the analysis\n",
        "\n"
      ]
    },
    {
      "cell_type": "code",
      "metadata": {
        "id": "I0NXzWGlJJlH"
      },
      "source": [
        "middle_point = (lat_final, lon_final)\n",
        "neig = df[[\"lat\",\"lon\"]].values\n",
        "point = Point(middle_point)\n",
        "route = LineString(neig)\n",
        "pol_ext = LinearRing(route.coords)\n",
        "d = pol_ext.project(point)\n",
        "p = pol_ext.interpolate(d)\n",
        "closest_point_coords = list(p.coords)[0]\n",
        "\n",
        "distance = vincenty(closest_point_coords, middle_point).km\n",
        "\n",
        "print(distance)"
      ],
      "execution_count": null,
      "outputs": []
    },
    {
      "cell_type": "code",
      "metadata": {
        "id": "LNAQP8P_LkyY"
      },
      "source": [
        "middle_point = (lat_final, lon_final)\n",
        "neig = df[[\"lat\",\"lon\"]].values\n",
        "distances = []\n",
        "for index,i in enumerate(df_cdmx[[\"lat\",\"lon\"]].values):\n",
        "  x = math.pow(float(i[0])-float(middle_point[0]),2)\n",
        "  y = math.pow(float(i[1])-float(middle_point[1]),2)\n",
        "  distances.append(math.sqrt(x+y))\n",
        "\n",
        "df_cdmx[\"distance_to_mid\"] = distances\n",
        "df_cdmx = df_cdmx.sort_values(by=['distance_to_mid'])\n",
        "df_cdmx.reset_index(drop=True)\n",
        "\n",
        "df_cdmx"
      ],
      "execution_count": null,
      "outputs": []
    },
    {
      "cell_type": "markdown",
      "metadata": {
        "id": "xwcPJg42VYDQ"
      },
      "source": [
        "<h2>Plotting the distances</h2>\n",
        "\n",
        "We can see on the next figure that a few Neighborhoods are close enough to the midd point so thats what we wanna know"
      ]
    },
    {
      "cell_type": "code",
      "metadata": {
        "id": "f3C2_6FnOoml"
      },
      "source": [
        "ax = df_cdmx.plot(kind='bar',x='Neighborhood',y='distance_to_mid',color='red',figsize=(40,20),fontsize=15)\n",
        "for i, t in enumerate(ax.get_xticklabels()):\n",
        "    if (i % 15) != 0:\n",
        "        t.set_visible(False)\n",
        "plt.xticks(rotation=90)\n",
        "plt.show()"
      ],
      "execution_count": null,
      "outputs": []
    },
    {
      "cell_type": "code",
      "metadata": {
        "id": "q_UlrxyhRGRy"
      },
      "source": [
        "df_cdmx"
      ],
      "execution_count": null,
      "outputs": []
    },
    {
      "cell_type": "code",
      "metadata": {
        "id": "WvfhItEYRKg1"
      },
      "source": [
        "latitude = 19.4978\n",
        "longitude =  -99.1269\n",
        "\n",
        "map_cdmx_venues = folium.Map(location=[latitude, longitude], zoom_start=10)\n",
        "\n",
        "for lat,lon,name,distance in zip( df_cdmx['lat'],df_cdmx['lon'], df_cdmx['Neighborhood'],df_cdmx[\"distance_to_mid\"]):\n",
        "    if(distance<=0.01):\n",
        "      op = 1\n",
        "      rad = 6\n",
        "    elif(distance>0.01 and distance<=0.1):\n",
        "      op= 0.5\n",
        "      rad = 3.5\n",
        "    else:\n",
        "      op= 0.1\n",
        "      rad= 2\n",
        "    label = '{}'.format(name)\n",
        "    label = folium.Popup(label, parse_html=True)\n",
        "    folium.CircleMarker(\n",
        "        [float(lat), float(lon)],\n",
        "        radius=rad,\n",
        "        popup=label,\n",
        "        color='blue',\n",
        "        fill=True,\n",
        "        fill_color='#3186cc',\n",
        "        fill_opacity=op,\n",
        "        parse_html=False).add_to(map_cdmx_venues)      \n",
        "\n",
        "for lat,lon, name, category in zip(venues_df['VenueLatitude'], venues_df['VenueLongitude'], venues_df['VenueName'], venues_df['VenueCategory']):\n",
        "    label = '{}, {}'.format(name, category)\n",
        "    label = folium.Popup(label, parse_html=True)\n",
        "    folium.CircleMarker(\n",
        "        [lat, lon],\n",
        "        radius=5,\n",
        "        popup=label,\n",
        "        color='Red',\n",
        "        fill=True,\n",
        "        fill_color='Red',\n",
        "        fill_opacity=0.7,\n",
        "        parse_html=False).add_to(map_cdmx_venues)  \n",
        "\n",
        "label = '{},\\n {},{}'.format(\"Middle Point of venues\",lat_final,lon_final)\n",
        "label = folium.Popup(label, parse_html=True)\n",
        "folium.CircleMarker(\n",
        "    [lat_final, lon_final],\n",
        "    radius=6,\n",
        "    popup=label,\n",
        "    color='Green',\n",
        "    fill=True,\n",
        "    fill_color='Green',\n",
        "    fill_opacity=0.7,\n",
        "    parse_html=False).add_to(map_cdmx_venues)  \n",
        "\n",
        "\n",
        "map_cdmx_venues"
      ],
      "execution_count": null,
      "outputs": []
    },
    {
      "cell_type": "markdown",
      "metadata": {
        "id": "6bFYRHtLVpOy"
      },
      "source": [
        "<h2>Conclusion<h2>\n",
        "\n",
        "With all the analisys before we can know that the best Neighborhoods to stay on a tri to CDMX are the next\n",
        "\n",
        "\n",
        "\n",
        "1.   HIPODROMO II\n",
        "2.   HIPODROMO CONDESA\t\n",
        "3.   ESCANDON I\t\n",
        "4.   CONDESA\t\n",
        "5.   HIPODROMO I\n",
        "\n",
        "And the worst are \n",
        "\n",
        "1.   SAN JUAN TEPENAHUAC (PBLO)\n",
        "2.   EMILIANO ZAPATA 1A\n",
        "3. SAN ANDRES MIXQUIC (PBLO)\n",
        "4. EMILIANO ZAPATA 2A\n",
        "5. SANTA ANA TLACOTENCO (PBLO)\n",
        "\n",
        "With these we can plan a very nice holly day's trip\n"
      ]
    }
  ]
}